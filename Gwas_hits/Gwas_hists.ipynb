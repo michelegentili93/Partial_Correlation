{
 "cells": [
  {
   "cell_type": "code",
   "execution_count": 55,
   "id": "adb99468",
   "metadata": {},
   "outputs": [],
   "source": [
    "import numpy as np\n",
    "from tqdm import tqdm\n",
    "import pandas as pd\n",
    "import numpy as np\n",
    "import itertools\n",
    "import matplotlib.pyplot as plt\n",
    "tqdm.pandas()\n",
    "\n",
    "# Simulations if considerin the genome devided into chromosomes\n",
    "# thus the window of consecutive hits has to be within a chromose\n",
    "\n",
    "#https://www.ncbi.nlm.nih.gov/grc/human/data?asm=GRCh37\n",
    "df_chr_len = pd.read_csv('Chromosome Size.csv', thousands=',',index_col=0)\n",
    "dict_chr_lenght_cumsum = df_chr_len.cumsum()['Length'].to_dict()\n",
    "dict_chr_lenght_cumsum['0']=0\n",
    "\n",
    "\n",
    "list_chr_lenght = df_chr_len.Length.values\n",
    "genome_lenght = np.sum(list_chr_lenght) #2980 Mb\n",
    "list_chr_end = np.cumsum(list_chr_lenght)\n",
    "list_chr_start = list_chr_end-list_chr_lenght\n",
    "\n",
    "# from Sakornsakolpat 2019. Genetic landscape of chronic obstructive pulmonary disease...\n",
    "# supp. table 10\n",
    "df_hits_all = pd.read_csv('COPD_all_hits.csv')\n",
    "# add from Hobbs rs2047409 4:106137033, TET2\n",
    "df_hits_all = pd.concat([df_hits_all,pd.DataFrame([[4,106137033,'rs2047409']],columns=df_hits_all.columns)],axis=0)\n",
    "df_hits_all = df_hits_all.sort_values(['Chr','Pos'])\n",
    "n_copd_loci = df_hits_all.shape[0]\n",
    "def find_closest_group_distance(lst, k):\n",
    "    # Calculate the distances for each group of k consecutive integers\n",
    "    distances = np.array([lst[i+k-1] - lst[i] for i in range(len(lst) - k+1)])\n",
    "    min_distance = np.min(distances,axis=0)\n",
    "    return min_distance\n",
    "\n",
    "def plot_simulation(hits,k,region_lenght):\n",
    "    # NB hits and region_lenght have to be on the same scale Mb or bases\n",
    "    hits = np.sort(hits)\n",
    "    min_distance = find_closest_group_distance(hits,k)\n",
    "    print('Min Distance Found',min_distance/10**6)\n",
    "\n",
    "    plt.figure(figsize=[15,3])\n",
    "\n",
    "    plt.plot(hits,np.ones(len(hits)),marker='|',linestyle='',markersize=10)    \n",
    "    # get hits within region_lenght distance\n",
    "    distances = np.array([(hits[i],hits[i+k-1]) for i in range(len(hits) - k+1) if hits[i+k-1] - hits[i] <region_lenght])\n",
    "    # remove across chromosomes\n",
    "    distances = [(x,y) for (x,y) in distances if not np.any([(y> chr_break) and (x<chr_break) for chr_break in list_chr_end])]\n",
    "\n",
    "    for j,(start,end) in enumerate(distances):\n",
    "        #print(hits[i],hits[i+k-1],hits[i+k-1]-hits[i])\n",
    "        plt.plot([start,end],[1+.002*(j+1),1+.002*(j+1)],linestyle='-',c='r',label='Subsequent hits' if j==0 else '')\n",
    "        plt.ylim([.998,1+.002*(j+2)])\n",
    "    [plt.axvline(x,c='r',linestyle='--',linewidth=1,alpha=.6) for x in list_chr_start[1:]]\n",
    "    plt.axhline(1,c='black',linewidth=1,alpha=.3)\n",
    "    plt.xlim([0,genome_lenght])\n",
    "    plt.xlabel('Chromosomes')\n",
    "    plt.xticks([(list_chr_start[i]+list_chr_end[i])/2 for i in range(len(list_chr_start))],labels=df_chr_len.index)\n",
    "    plt.yticks([1],['GWAS hits'])\n",
    "    plt.legend()\n",
    "    plt.title('%i Subsequent GWAS hits out of %i loci \\nwithin %s MB'%(k,len(hits),f\"{region_lenght/10**6:.2f}\"))\n",
    "    \n",
    "def get_simulation_genome(n_hits_region,n_hits,region_lenght,genome_lenght,plot=False):\n",
    "    # Simulate hits and count number of region not considering chromosome break\n",
    "    # generate random \n",
    "    hits = np.random.randint(0,genome_lenght,size=n_hits)\n",
    "    hits = np.sort(hits)\n",
    "    result_simulation =False\n",
    "    for start,end in zip(*[list_chr_start,list_chr_end]):\n",
    "        # check in each chromosome how many times you have n_hits_region in a region of lenght within_region \n",
    "        hits_in_chr = hits[(hits>=start) & (hits<end)]\n",
    "        if len(hits_in_chr)<n_hits_region:\n",
    "            continue\n",
    "        min_distance = find_closest_group_distance(hits_in_chr,n_hits_region)\n",
    "        if min_distance <=region_lenght:\n",
    "            result_simulation= True\n",
    "            break\n",
    "    if plot: plot_simulation(hits,n_hits_region,region_lenght)\n",
    "    return result_simulation\n",
    "\n",
    "\n",
    "def get_simulation_in_chr(n_hits_region,chr_hits,region_lenght,chr_lenght):\n",
    "    # Simulate hits and count number of region not considering chromosome break\n",
    "    # generate random \n",
    "    hits = np.random.randint(0,chr_lenght,size=chr_hits)\n",
    "    hits = np.sort(hits)\n",
    "    \n",
    "    min_distance = find_closest_group_distance(hits,n_hits_region)\n",
    "    if min_distance <=region_lenght:\n",
    "        return True\n",
    "    else:\n",
    "        return False"
   ]
  },
  {
   "cell_type": "code",
   "execution_count": 52,
   "id": "aeabb3c4-060e-484f-ab9a-51d072a664d7",
   "metadata": {},
   "outputs": [
    {
     "data": {
      "text/plain": [
       "70.0"
      ]
     },
     "execution_count": 52,
     "metadata": {},
     "output_type": "execute_result"
    }
   ],
   "source": [
    "70*10**6/10**6"
   ]
  },
  {
   "cell_type": "code",
   "execution_count": null,
   "id": "cfacc3f8-99af-4bef-9620-cce497e650a5",
   "metadata": {},
   "outputs": [],
   "source": []
  },
  {
   "cell_type": "markdown",
   "id": "4cd50fbd-9b40-484b-9769-78bd80375acb",
   "metadata": {},
   "source": [
    "### Probabilities in Chromosome 4"
   ]
  },
  {
   "cell_type": "code",
   "execution_count": 3,
   "id": "032bfedc-5962-4069-bb34-a40842ee1f81",
   "metadata": {},
   "outputs": [
    {
     "data": {
      "text/plain": [
       "0.0751"
      ]
     },
     "execution_count": 3,
     "metadata": {},
     "output_type": "execute_result"
    }
   ],
   "source": [
    "np.mean([get_simulation_genome(n_hits_region=4,n_hits=22,region_lenght=55*10**6,genome_lenght=genome_lenght) for x in range(100000)])"
   ]
  },
  {
   "cell_type": "code",
   "execution_count": 4,
   "id": "6e45c39f-b3a5-4ffe-98e8-d0ed6670919f",
   "metadata": {},
   "outputs": [
    {
     "data": {
      "text/plain": [
       "0.986"
      ]
     },
     "execution_count": 4,
     "metadata": {},
     "output_type": "execute_result"
    }
   ],
   "source": [
    "np.mean([get_simulation_genome(n_hits_region=5,n_hits=83,region_lenght=70*10**6,genome_lenght=genome_lenght) for x in range(10000)])"
   ]
  },
  {
   "cell_type": "markdown",
   "id": "4aa7751b-7737-4a69-9bd3-5c36b9cf835f",
   "metadata": {},
   "source": [
    "### All Chromosomes\n",
    "\n",
    "For each possible subsequent number of k hits (k=1,2,3…) in each chromosome, we tested for the statistical significance (100,000 simulations) for k hits, out of the 83 COPD GWAS signals, to be present within their genome region length (region_length). In each simulation we sampled 83 loci at random across the genome and computed the number of regions with at least k hits within the region_length. "
   ]
  },
  {
   "cell_type": "code",
   "execution_count": 5,
   "id": "47d8e5ee-db88-4c93-a52f-f723edee2c61",
   "metadata": {},
   "outputs": [
    {
     "data": {
      "text/plain": [
       "Text(0.5, 0.98, '')"
      ]
     },
     "execution_count": 5,
     "metadata": {},
     "output_type": "execute_result"
    },
    {
     "data": {
      "image/png": "[encoded data removed]",
      "text/plain": [
       "<Figure size 432x288 with 1 Axes>"
      ]
     },
     "metadata": {
      "needs_background": "light"
     },
     "output_type": "display_data"
    }
   ],
   "source": [
    "df_hits_all_dist = df_hits_all.groupby('Chr').apply(lambda x: [(x.Chr.iloc[0],i,find_closest_group_distance(x.Pos.values,i)) for i in range(2,len(x)+1)])\n",
    "df_hits_all_dist = pd.DataFrame(itertools.chain.from_iterable(df_hits_all_dist),columns=[\"Chr\",\"N_hits\",\"Dist\"])\n",
    "\n",
    "dict_chr_lenght = {i+1:v for i,v in enumerate(list_chr_lenght)}\n",
    "dict_chr_n_hits = df_hits_all_dist.groupby('Chr').N_hits.max().to_dict()\n",
    "\n",
    "n_total_hits = df_hits_all.shape[0]\n",
    "genome_length_b = sum(list_chr_lenght)\n",
    "    \n",
    "\n",
    "\n",
    "ax = df_hits_all_dist.boxplot('Dist',by='N_hits')\n",
    "#tmp = df_hits_all_dist.query('Chr==5').copy()\n",
    "#tmp.N_hits = tmp.N_hits -1\n",
    "#tmp.plot(x='N_hits',y='Dist',ax=ax,linestyle='',marker='X',c='r',label='Ch5')\n",
    "plt.ylabel('Dist')\n",
    "ax.set_title('Distance between hits distribution over Chromosomes')\n",
    "plt.suptitle('')"
   ]
  },
  {
   "cell_type": "markdown",
   "id": "f188dbdd-e9b8-48b2-807e-379ec43f30b1",
   "metadata": {},
   "source": [
    "### Plot COPD GWAS hits and a random simulation "
   ]
  },
  {
   "cell_type": "code",
   "execution_count": 58,
   "id": "c7203807-345a-4389-b2bd-701052955647",
   "metadata": {},
   "outputs": [
    {
     "name": "stdout",
     "output_type": "stream",
     "text": [
      "Min Distance Found 24.939625\n"
     ]
    },
    {
     "data": {
      "text/plain": [
       "[]"
      ]
     },
     "execution_count": 58,
     "metadata": {},
     "output_type": "execute_result"
    },
    {
     "data": {
      "image/png": "[encoded data removed]",
      "text/plain": [
       "<Figure size 1080x216 with 1 Axes>"
      ]
     },
     "metadata": {
      "needs_background": "light"
     },
     "output_type": "display_data"
    }
   ],
   "source": [
    "# Plot COPD GWAS hits \n",
    "plot_simulation(df_hits_all.Pos + [dict_chr_lenght_cumsum[str(x-1)] for x in df_hits_all.Chr],5,70*10**6)\n",
    "plt.plot()"
   ]
  },
  {
   "cell_type": "code",
   "execution_count": 57,
   "id": "741274c4-a76a-40b0-8f55-871f83e3be93",
   "metadata": {
    "tags": []
   },
   "outputs": [
    {
     "name": "stdout",
     "output_type": "stream",
     "text": [
      "Min Distance Found 6.223433\n"
     ]
    },
    {
     "data": {
      "text/plain": [
       "True"
      ]
     },
     "execution_count": 57,
     "metadata": {},
     "output_type": "execute_result"
    },
    {
     "data": {
      "image/png": "[encoded data removed]",
      "text/plain": [
       "<Figure size 1080x216 with 1 Axes>"
      ]
     },
     "metadata": {
      "needs_background": "light"
     },
     "output_type": "display_data"
    }
   ],
   "source": [
    "# Plot a GWAS simulation \n",
    "get_simulation_genome(5,n_copd_loci,70*10**6,genome_lenght,plot=True)"
   ]
  },
  {
   "cell_type": "code",
   "execution_count": null,
   "id": "b09cac3c-ba48-4e56-8586-706e30cbc298",
   "metadata": {},
   "outputs": [],
   "source": []
  },
  {
   "cell_type": "code",
   "execution_count": null,
   "id": "2d7847cf-2767-4778-b0db-a60f78f16e0d",
   "metadata": {},
   "outputs": [],
   "source": []
  },
  {
   "cell_type": "code",
   "execution_count": null,
   "id": "bad746b7-525c-450f-b0a0-339cc438c4fd",
   "metadata": {},
   "outputs": [],
   "source": []
  },
  {
   "cell_type": "code",
   "execution_count": null,
   "id": "decc7132-d912-4264-8e89-fe8d91b4f780",
   "metadata": {},
   "outputs": [],
   "source": []
  },
  {
   "cell_type": "code",
   "execution_count": null,
   "id": "69a0fe75-97f0-41d5-ad40-28d613234364",
   "metadata": {},
   "outputs": [],
   "source": []
  },
  {
   "cell_type": "code",
   "execution_count": null,
   "id": "10d87f9c-d5ea-4497-89bd-c3ea9f7e6efd",
   "metadata": {},
   "outputs": [],
   "source": []
  },
  {
   "cell_type": "code",
   "execution_count": null,
   "id": "769ee3ad-5b27-467b-a980-125dc0209ae2",
   "metadata": {},
   "outputs": [],
   "source": []
  },
  {
   "cell_type": "code",
   "execution_count": null,
   "id": "bd4ca848-f53d-4a0a-97cb-fd9e0773fca7",
   "metadata": {},
   "outputs": [],
   "source": []
  },
  {
   "cell_type": "code",
   "execution_count": null,
   "id": "c61d6acd-6311-43ee-8ecc-132c665af180",
   "metadata": {},
   "outputs": [],
   "source": []
  },
  {
   "cell_type": "code",
   "execution_count": null,
   "id": "4e57ba9e-9296-4c05-8067-d5343b525d2e",
   "metadata": {},
   "outputs": [],
   "source": []
  },
  {
   "cell_type": "code",
   "execution_count": null,
   "id": "768322b8-6d89-47f0-89a1-a9e22e2789c8",
   "metadata": {},
   "outputs": [],
   "source": []
  },
  {
   "cell_type": "code",
   "execution_count": null,
   "id": "2741367b-d031-420e-9b81-d97cbfbcc112",
   "metadata": {},
   "outputs": [],
   "source": []
  },
  {
   "cell_type": "code",
   "execution_count": null,
   "id": "60ec0fb2-aba6-46a4-b32a-f1db6ee21cb3",
   "metadata": {},
   "outputs": [],
   "source": []
  },
  {
   "cell_type": "code",
   "execution_count": null,
   "id": "d186461b-679f-4a9d-8d47-ecd28f54c76b",
   "metadata": {},
   "outputs": [],
   "source": []
  },
  {
   "cell_type": "code",
   "execution_count": null,
   "id": "b6a66dd8-7b14-4551-ade5-835477dd9b2c",
   "metadata": {},
   "outputs": [],
   "source": []
  },
  {
   "cell_type": "code",
   "execution_count": null,
   "id": "a9fee754-2e9d-41fa-be85-13d14f029753",
   "metadata": {},
   "outputs": [],
   "source": []
  },
  {
   "cell_type": "code",
   "execution_count": null,
   "id": "548a081d-483e-4837-bb7b-15d554af8e0e",
   "metadata": {},
   "outputs": [],
   "source": []
  },
  {
   "cell_type": "code",
   "execution_count": null,
   "id": "e63e8a49-3b6c-4356-a0c2-e39784b418c5",
   "metadata": {},
   "outputs": [],
   "source": []
  },
  {
   "cell_type": "code",
   "execution_count": null,
   "id": "a5effa69-94fe-4e2d-a336-6f6f84916f6a",
   "metadata": {},
   "outputs": [],
   "source": []
  },
  {
   "cell_type": "markdown",
   "id": "f6377dba-327d-49f5-9d78-0b58f1d8e426",
   "metadata": {},
   "source": [
    "#### Get Pvalues"
   ]
  },
  {
   "cell_type": "code",
   "execution_count": 99,
   "id": "ec07fd11-48f2-4e95-a34c-ca7e551c55b4",
   "metadata": {
    "tags": []
   },
   "outputs": [],
   "source": [
    "tot_hits=df_hits_all.shape[0]\n",
    "\n",
    "def get_simulation_genome_fast(hits,k,region_lenght):\n",
    "    # generate random \n",
    "    for start,end in zip(*[list_chr_start,list_chr_end]):\n",
    "        # check in each chromosome how many times you have k in a region of lenght within_region \n",
    "        hits_in_chr = hits[(hits>=start) & (hits<end)]\n",
    "        if len(hits_in_chr)<k:\n",
    "            continue\n",
    "        min_distance = find_closest_group_distance(hits_in_chr,k)\n",
    "        if min_distance <=region_lenght:\n",
    "            return True\n",
    "    return False\n",
    "\n",
    "\n",
    "def get_simulation_in_chr_fast(hits,k,region_lenght):\n",
    "    ''' Hits has all the random sample'''\n",
    "    min_distance = find_closest_group_distance(hits,k)\n",
    "    return np.mean(min_distance <=region_lenght)\n",
    "    \n",
    "    \n",
    "def n_regions_hits(hits,k,region_lenght):\n",
    "    sum_distances = 0\n",
    "    regions = []\n",
    "    for chrom,(start,end) in enumerate(zip(*[list_chr_start,list_chr_end])):\n",
    "        # check in each chromosome how many times you have n_hits_region in a region of lenght within_region \n",
    "        hits_in_chr = hits[(hits>=start) & (hits<end)]\n",
    "        if len(hits_in_chr)<k:\n",
    "            continue\n",
    "        distances = np.array([hits_in_chr[i+k-1] - hits_in_chr[i] for i in range(len(hits_in_chr) - k+1)])\n",
    "        sum_distances +=sum(distances<=region_lenght)\n",
    "        idx = np.where(distances<=region_lenght)[0]\n",
    "        for i in idx:\n",
    "            regions.append([chrom,list(hits_in_chr[i:i+k])])\n",
    "    return sum_distances,regions \n",
    "    \n",
    "def get_sim_n_region(k,region_lenght,n_copd_hits):\n",
    "    simulations_chr = get_simulation_in_chr_fast(random_hits,k,region_lenght)\n",
    "    simulations_genome = np.apply_along_axis(lambda x: get_simulation_genome_fast(x,k,region_lenght),axis=0,arr=random_hits)    \n",
    "    random_n_regions = np.apply_along_axis(lambda x: n_regions_hits(x,k,region_lenght),axis=0,arr=random_hits)    \n",
    "    return [np.mean(simulations_chr),np.mean(simulations_genome),np.mean(random_n_regions>=n_copd_hits)] \n",
    "\n",
    "\n",
    "df_hits_all['incremental_position'] = df_hits_all.Pos.values + [dict_chr_lenght_cumsum[str(x-1)] for x in df_hits_all.Chr]\n",
    "dict_hit_pos_rsid = df_hits_all.set_index('incremental_position').Rs_ID.to_dict()\n",
    "copd_hits =df_hits_all['incremental_position'].values\n",
    "df_hits_all_dist['copd_n_regions'] = df_hits_all_dist.apply(lambda x: n_regions_hits(copd_hits,int(x.N_hits),x.Dist),axis=1)\n",
    "df_hits_all_dist['copd_regions'] = df_hits_all_dist['copd_n_regions'].map(lambda x: x[1])\n",
    "df_hits_all_dist['copd_n_regions'] = df_hits_all_dist['copd_n_regions'].map(lambda x: x[0])\n",
    "# generate 1000 random patients\n",
    "random_hits = np.random.randint(0,genome_lenght,size=[tot_hits,10000])\n",
    "random_hits.sort(axis=0)\n"
   ]
  },
  {
   "cell_type": "code",
   "execution_count": null,
   "id": "194d66ac-5ba7-41e2-ade7-09c7cbbbae60",
   "metadata": {},
   "outputs": [],
   "source": []
  },
  {
   "cell_type": "code",
   "execution_count": 53,
   "id": "1619a9f1-3cdf-4076-8b74-fd574a35e9e8",
   "metadata": {},
   "outputs": [
    {
     "name": "stderr",
     "output_type": "stream",
     "text": [
      "100%|█████████████████████████████████████████████████████████████████████████████████████████████████████████████████████████████████████████████████████████████████████████████████████████████████████████████████████████████████████████████████████████████████████████████████████████| 62/62 [05:42<00:00,  5.52s/it]\n"
     ]
    }
   ],
   "source": [
    "# Compute Pvalue\n",
    "df_hits_all_dist[['pvalue_in_chr','pvalue_genome','pvalue_genome_multiple_region',]] = list(df_hits_all_dist.progress_apply(lambda x: get_sim_n_region(int(x.N_hits),x.Dist,x.copd_n_regions),axis=1))"
   ]
  },
  {
   "cell_type": "code",
   "execution_count": 49,
   "id": "95710d77-33ae-4860-b6bd-284581612876",
   "metadata": {},
   "outputs": [],
   "source": [
    "df_hits_all_dist.sort_values('pvalue_genome_multiple_region').to_csv('Results.csv',index=False)#head(30)"
   ]
  },
  {
   "cell_type": "code",
   "execution_count": 77,
   "id": "0db3cfa7-2146-4d6d-b6fc-edb7129c63d8",
   "metadata": {},
   "outputs": [
    {
     "data": {
      "text/html": [
       "<div>\n",
       "<style scoped>\n",
       "    .dataframe tbody tr th:only-of-type {\n",
       "        vertical-align: middle;\n",
       "    }\n",
       "\n",
       "    .dataframe tbody tr th {\n",
       "        vertical-align: top;\n",
       "    }\n",
       "\n",
       "    .dataframe thead th {\n",
       "        text-align: right;\n",
       "    }\n",
       "</style>\n",
       "<table border=\"1\" class=\"dataframe\">\n",
       "  <thead>\n",
       "    <tr style=\"text-align: right;\">\n",
       "      <th></th>\n",
       "      <th>Chr</th>\n",
       "      <th>N_hits</th>\n",
       "      <th>Dist</th>\n",
       "      <th>copd_n_regions</th>\n",
       "      <th>pvalue_in_chr</th>\n",
       "      <th>pvalue_genome</th>\n",
       "      <th>pvalue_genome_multiple_region</th>\n",
       "    </tr>\n",
       "  </thead>\n",
       "  <tbody>\n",
       "    <tr>\n",
       "      <th>23</th>\n",
       "      <td>4</td>\n",
       "      <td>4</td>\n",
       "      <td>31145690</td>\n",
       "      <td>6</td>\n",
       "      <td>0.9702</td>\n",
       "      <td>0.9427</td>\n",
       "      <td>0.1668</td>\n",
       "    </tr>\n",
       "    <tr>\n",
       "      <th>22</th>\n",
       "      <td>4</td>\n",
       "      <td>3</td>\n",
       "      <td>16935235</td>\n",
       "      <td>8</td>\n",
       "      <td>0.9970</td>\n",
       "      <td>0.9953</td>\n",
       "      <td>0.2108</td>\n",
       "    </tr>\n",
       "    <tr>\n",
       "      <th>24</th>\n",
       "      <td>4</td>\n",
       "      <td>5</td>\n",
       "      <td>69815735</td>\n",
       "      <td>6</td>\n",
       "      <td>0.9992</td>\n",
       "      <td>0.9874</td>\n",
       "      <td>0.4940</td>\n",
       "    </tr>\n",
       "    <tr>\n",
       "      <th>21</th>\n",
       "      <td>4</td>\n",
       "      <td>2</td>\n",
       "      <td>682020</td>\n",
       "      <td>1</td>\n",
       "      <td>0.7767</td>\n",
       "      <td>0.7759</td>\n",
       "      <td>0.7759</td>\n",
       "    </tr>\n",
       "  </tbody>\n",
       "</table>\n",
       "</div>"
      ],
      "text/plain": [
       "    Chr  N_hits      Dist  copd_n_regions  pvalue_in_chr  pvalue_genome  \\\n",
       "23    4       4  31145690               6         0.9702         0.9427   \n",
       "22    4       3  16935235               8         0.9970         0.9953   \n",
       "24    4       5  69815735               6         0.9992         0.9874   \n",
       "21    4       2    682020               1         0.7767         0.7759   \n",
       "\n",
       "    pvalue_genome_multiple_region  \n",
       "23                         0.1668  \n",
       "22                         0.2108  \n",
       "24                         0.4940  \n",
       "21                         0.7759  "
      ]
     },
     "execution_count": 77,
     "metadata": {},
     "output_type": "execute_result"
    }
   ],
   "source": [
    "df_hits_all_dist.sort_values('pvalue_genome_multiple_region').query('Chr==4')"
   ]
  },
  {
   "cell_type": "code",
   "execution_count": 95,
   "id": "a3c063a3-12e4-4b4e-b51d-e6ef66abc096",
   "metadata": {},
   "outputs": [],
   "source": [
    "import pandas as pd\n",
    "df_hits_all_dist = pd.read_csv('Results.csv')\n",
    "df_hits_all_dist.copd_regions = df_hits_all_dist.copd_regions.apply(eval)"
   ]
  },
  {
   "cell_type": "code",
   "execution_count": 111,
   "id": "fa354d0b-09cc-4879-ab71-1bc7245c76ef",
   "metadata": {
    "tags": []
   },
   "outputs": [],
   "source": [
    "df_top_hits = pd.DataFrame(df_hits_all_dist.iloc[0]['copd_regions'], columns = ['Chr','hits'])\n",
    "df_top_hits['subsequent_rs_id'] = df_top_hits.hits.apply(lambda x: list(map(dict_hit_pos_rsid.get,x)))\n",
    "df_top_hits.drop('hits',axis=1).to_csv('Regions_3_hits.csv',index=False)\n"
   ]
  },
  {
   "cell_type": "code",
   "execution_count": 61,
   "id": "212c195a-14b4-48da-a7be-fc52955af4af",
   "metadata": {},
   "outputs": [
    {
     "name": "stdout",
     "output_type": "stream",
     "text": [
      "Min Distance Found 7.088604\n"
     ]
    },
    {
     "data": {
      "image/png": "[encoded data removed]",
      "text/plain": [
       "<Figure size 1080x216 with 1 Axes>"
      ]
     },
     "metadata": {
      "needs_background": "light"
     },
     "output_type": "display_data"
    }
   ],
   "source": [
    "# Plot COPD GWAS hits \n",
    "plot_simulation(df_hits_all.Pos + [dict_chr_lenght_cumsum[str(x-1)] for x in df_hits_all.Chr],3,34275487)"
   ]
  },
  {
   "cell_type": "code",
   "execution_count": 59,
   "id": "f9d9097a-175d-47cc-8a11-0cdfd4a18d6d",
   "metadata": {},
   "outputs": [
    {
     "name": "stdout",
     "output_type": "stream",
     "text": [
      "Min Distance Found 7.367971\n"
     ]
    },
    {
     "data": {
      "text/plain": [
       "True"
      ]
     },
     "execution_count": 59,
     "metadata": {},
     "output_type": "execute_result"
    },
    {
     "data": {
      "image/png": "[encoded data removed]",
      "text/plain": [
       "<Figure size 1080x216 with 1 Axes>"
      ]
     },
     "metadata": {
      "needs_background": "light"
     },
     "output_type": "display_data"
    }
   ],
   "source": [
    "# visualize a simulation to find 3 hits within 34MB\n",
    "get_simulation_genome(n_hits_region=3,n_hits=83,region_lenght=34275487,genome_lenght=genome_lenght,plot=True)"
   ]
  },
  {
   "cell_type": "code",
   "execution_count": null,
   "id": "02a20865-7834-4d2b-9fc3-62e21a04042f",
   "metadata": {},
   "outputs": [],
   "source": []
  }
 ],
 "metadata": {
  "kernelspec": {
   "display_name": "pypandaENV1",
   "language": "python",
   "name": "pypandaenv1"
  },
  "language_info": {
   "codemirror_mode": {
    "name": "ipython",
    "version": 3
   },
   "file_extension": ".py",
   "mimetype": "text/x-python",
   "name": "python",
   "nbconvert_exporter": "python",
   "pygments_lexer": "ipython3",
   "version": "3.8.8"
  },
  "toc": {
   "base_numbering": 1,
   "nav_menu": {},
   "number_sections": true,
   "sideBar": true,
   "skip_h1_title": false,
   "title_cell": "Table of Contents",
   "title_sidebar": "Contents",
   "toc_cell": true,
   "toc_position": {},
   "toc_section_display": true,
   "toc_window_display": true
  }
 },
 "nbformat": 4,
 "nbformat_minor": 5
}
