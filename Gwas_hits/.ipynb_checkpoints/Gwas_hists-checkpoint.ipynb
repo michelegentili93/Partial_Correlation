{
 "cells": [
  {
   "cell_type": "markdown",
   "id": "a6141131",
   "metadata": {
    "toc": true
   },
   "source": [
    "<h1>Table of Contents<span class=\"tocSkip\"></span></h1>\n",
    "<div class=\"toc\"><ul class=\"toc-item\"><li><ul class=\"toc-item\"><li><span><a href=\"#Debug-old-simulation\" data-toc-modified-id=\"Debug-old-simulation-0.1\"><span class=\"toc-item-num\">0.1&nbsp;&nbsp;</span>Debug old simulation</a></span></li><li><span><a href=\"#Genome-wise-checking-Chromosome-break\" data-toc-modified-id=\"Genome-wise-checking-Chromosome-break-0.2\"><span class=\"toc-item-num\">0.2&nbsp;&nbsp;</span>Genome wise checking Chromosome break</a></span></li><li><span><a href=\"#Genome-wise-not-checking-Chromosome-break\" data-toc-modified-id=\"Genome-wise-not-checking-Chromosome-break-0.3\"><span class=\"toc-item-num\">0.3&nbsp;&nbsp;</span>Genome wise not checking Chromosome break</a></span></li></ul></li><li><span><a href=\"#Check-only-in-Chromosome-5-at-Chromosome-Level\" data-toc-modified-id=\"Check-only-in-Chromosome-5-at-Chromosome-Level-1\"><span class=\"toc-item-num\">1&nbsp;&nbsp;</span>Check only in Chromosome 5 at Chromosome Level</a></span></li><li><span><a href=\"#All-Chromosomes\" data-toc-modified-id=\"All-Chromosomes-2\"><span class=\"toc-item-num\">2&nbsp;&nbsp;</span>All Chromosomes</a></span></li></ul></div>"
   ]
  },
  {
   "cell_type": "code",
   "execution_count": 55,
   "id": "adb99468",
   "metadata": {},
   "outputs": [],
   "source": [
    "import numpy as np\n",
    "from tqdm import tqdm\n",
    "import pandas as pd\n",
    "import numpy as np\n",
    "import itertools\n",
    "import matplotlib.pyplot as plt\n",
    "tqdm.pandas()\n",
    "\n",
    "# Simulations if considerin the genome devided into chromosomes\n",
    "# thus the window of consecutive hits has to be within a chromose\n",
    "\n",
    "#https://www.ncbi.nlm.nih.gov/grc/human/data?asm=GRCh37\n",
    "df_chr_len = pd.read_csv('Chromosome Size.csv', thousands=',',index_col=0)\n",
    "dict_chr_lenght_cumsum = df_chr_len.cumsum()['Length'].to_dict()\n",
    "dict_chr_lenght_cumsum['0']=0\n",
    "\n",
    "\n",
    "list_chr_lenght = df_chr_len.Length.values\n",
    "genome_lenght = np.sum(list_chr_lenght) #2980 Mb\n",
    "list_chr_end = np.cumsum(list_chr_lenght)\n",
    "list_chr_start = list_chr_end-list_chr_lenght\n",
    "\n",
    "def find_closest_group_distance(lst, k):\n",
    "    # Calculate the distances for each group of k consecutive integers\n",
    "    distances = np.array([lst[i+k-1] - lst[i] for i in range(len(lst) - k+1)])\n",
    "    min_distance = np.min(distances,axis=0)\n",
    "    return min_distance\n",
    "\n",
    "def plot_simulation(hits,k,region_lenght):\n",
    "    # NB hits and region_lenght have to be on the same scale Mb or bases\n",
    "    hits = np.sort(hits)\n",
    "    min_distance = find_closest_group_distance(hits,k)\n",
    "    print('Min Distance Found',min_distance/10**6)\n",
    "\n",
    "    plt.figure(figsize=[15,3])\n",
    "\n",
    "    plt.plot(hits,np.ones(len(hits)),marker='|',linestyle='',markersize=5)    \n",
    "    # get hits within region_lenght distance\n",
    "    distances = np.array([(hits[i],hits[i+k-1]) for i in range(len(hits) - k+1) if hits[i+k-1] - hits[i] <region_lenght])\n",
    "    # remove across chromosomes\n",
    "    distances = [(x,y) for (x,y) in distances if not np.any([(y> chr_break) and (x<chr_break) for chr_break in list_chr_end])]\n",
    "\n",
    "    for j,(start,end) in enumerate(distances):\n",
    "        #print(hits[i],hits[i+k-1],hits[i+k-1]-hits[i])\n",
    "        plt.plot([start,end],[1+.002*(j+1),1+.002*(j+1)],linestyle='-',c='r')\n",
    "        plt.ylim([.998,1+.002*(j+2)])\n",
    "    [plt.axvline(x,c='r',linestyle='--',linewidth=1,alpha=.6) for x in list_chr_start[1:]]\n",
    "    plt.xlim([0,genome_lenght])\n",
    "    \n",
    "def get_simulation_genome(n_hits_region,n_hits,region_lenght,genome_lenght,plot=False):\n",
    "    # Simulate hits and count number of region not considering chromosome break\n",
    "    # generate random \n",
    "    hits = np.random.randint(0,genome_lenght,size=n_hits)\n",
    "    hits = np.sort(hits)\n",
    "    result_simulation =False\n",
    "    for start,end in zip(*[list_chr_start,list_chr_end]):\n",
    "        # check in each chromosome how many times you have n_hits_region in a region of lenght within_region \n",
    "        hits_in_chr = hits[(hits>=start) & (hits<end)]\n",
    "        if len(hits_in_chr)<n_hits_region:\n",
    "            continue\n",
    "        min_distance = find_closest_group_distance(hits_in_chr,n_hits_region)\n",
    "        if min_distance <=region_lenght:\n",
    "            result_simulation= True\n",
    "            break\n",
    "    if plot: plot_simulation(hits,n_hits_region,region_lenght)\n",
    "    return result_simulation\n",
    "\n",
    "\n",
    "def get_simulation_in_chr(n_hits_region,chr_hits,region_lenght,chr_lenght):\n",
    "    # Simulate hits and count number of region not considering chromosome break\n",
    "    # generate random \n",
    "    hits = np.random.randint(0,chr_lenght,size=chr_hits)\n",
    "    hits = np.sort(hits)\n",
    "    \n",
    "    min_distance = find_closest_group_distance(hits,n_hits_region)\n",
    "    if min_distance <=region_lenght:\n",
    "        return True\n",
    "    else:\n",
    "        return False"
   ]
  },
  {
   "cell_type": "markdown",
   "id": "4cd50fbd-9b40-484b-9769-78bd80375acb",
   "metadata": {},
   "source": [
    "### Probabilities in Chromosome 4"
   ]
  },
  {
   "cell_type": "code",
   "execution_count": 2,
   "id": "032bfedc-5962-4069-bb34-a40842ee1f81",
   "metadata": {},
   "outputs": [
    {
     "data": {
      "text/plain": [
       "0.07646"
      ]
     },
     "execution_count": 2,
     "metadata": {},
     "output_type": "execute_result"
    }
   ],
   "source": [
    "np.mean([get_simulation_genome(n_hits_region=4,n_hits=22,region_lenght=55*10**6,genome_lenght=genome_lenght) for x in range(100000)])"
   ]
  },
  {
   "cell_type": "code",
   "execution_count": 4,
   "id": "6e45c39f-b3a5-4ffe-98e8-d0ed6670919f",
   "metadata": {},
   "outputs": [
    {
     "data": {
      "text/plain": [
       "0.986"
      ]
     },
     "execution_count": 4,
     "metadata": {},
     "output_type": "execute_result"
    }
   ],
   "source": [
    "np.mean([get_simulation_genome(n_hits_region=5,n_hits=83,region_lenght=70*10**6,genome_lenght=genome_lenght) for x in range(10000)])"
   ]
  },
  {
   "cell_type": "markdown",
   "id": "f188dbdd-e9b8-48b2-807e-379ec43f30b1",
   "metadata": {},
   "source": [
    "### Plot COPD GWAS hits and a random simulation "
   ]
  },
  {
   "cell_type": "code",
   "execution_count": 56,
   "id": "c7203807-345a-4389-b2bd-701052955647",
   "metadata": {},
   "outputs": [
    {
     "name": "stdout",
     "output_type": "stream",
     "text": [
      "Min Distance Found 62.47163\n"
     ]
    },
    {
     "data": {
      "image/png": "[encoded data removed]",
      "text/plain": [
       "<Figure size 1080x216 with 1 Axes>"
      ]
     },
     "metadata": {
      "needs_background": "light"
     },
     "output_type": "display_data"
    }
   ],
   "source": [
    "# Plot COPD GWAS hits \n",
    "plot_simulation(df_hits_all.Pos + [dict_chr_lenght_cumsum[str(x-1)] for x in df_hits_all.Chr],8,70*10**6)\n",
    "plt.plot()"
   ]
  },
  {
   "cell_type": "code",
   "execution_count": null,
   "id": "24c426a2-af30-421b-84ed-bdda95780b6f",
   "metadata": {},
   "outputs": [],
   "source": []
  },
  {
   "cell_type": "code",
   "execution_count": null,
   "id": "cd880ed9-9e49-42d1-9625-9675b8fa17b9",
   "metadata": {},
   "outputs": [],
   "source": []
  },
  {
   "cell_type": "code",
   "execution_count": 30,
   "id": "0081b8fc-f0a9-491b-b09f-6d20a9d312c1",
   "metadata": {},
   "outputs": [
    {
     "data": {
      "text/plain": [
       "0.3067"
      ]
     },
     "execution_count": 30,
     "metadata": {},
     "output_type": "execute_result"
    }
   ],
   "source": [
    "# Genome wide checking Chromosome break\n",
    "np.mean([get_simulation_genome(n_hits_region=5,n_hits=83,region_lenght=25939625,genome_lenght=genome_lenght) for x in range(10000)])"
   ]
  },
  {
   "cell_type": "code",
   "execution_count": 29,
   "id": "bac9f03c-f8e7-4232-ab4f-13acd6c64b33",
   "metadata": {},
   "outputs": [
    {
     "data": {
      "text/plain": [
       "0.3465"
      ]
     },
     "execution_count": 29,
     "metadata": {},
     "output_type": "execute_result"
    }
   ],
   "source": [
    "# Genome wide not checking Chromosome break\n",
    "np.mean([get_simulation_in_chr(n_hits_region=5,chr_hits=83,region_lenght=25939625,chr_lenght=genome_lenght) for x in range(10000)])"
   ]
  },
  {
   "cell_type": "markdown",
   "id": "4aa7751b-7737-4a69-9bd3-5c36b9cf835f",
   "metadata": {},
   "source": [
    "### All Chromosomes\n",
    "\n",
    "Working at Base not Mb level"
   ]
  },
  {
   "cell_type": "code",
   "execution_count": 8,
   "id": "47d8e5ee-db88-4c93-a52f-f723edee2c61",
   "metadata": {},
   "outputs": [
    {
     "data": {
      "text/plain": [
       "Text(0.5, 0.98, '')"
      ]
     },
     "execution_count": 8,
     "metadata": {},
     "output_type": "execute_result"
    },
    {
     "data": {
      "image/png": "[encoded data removed]",
      "text/plain": [
       "<Figure size 432x288 with 1 Axes>"
      ]
     },
     "metadata": {
      "needs_background": "light"
     },
     "output_type": "display_data"
    }
   ],
   "source": [
    "# from ukbIcgcMetaTableExcel supp. table 10\n",
    "df_hits_all = pd.read_csv('COPD_all_hits.csv')\n",
    "# add from Hobbs rs2047409 4:106137033, TET2\n",
    "df_hits_all = pd.concat([df_hits_all,pd.DataFrame([[4,106137033]],columns=df_hits_all.columns)],axis=0)\n",
    "df_hits_all = df_hits_all.sort_values(['Chr','Pos'])\n",
    "\n",
    "df_hits_all_dist = df_hits_all.groupby('Chr').apply(lambda x: [(x.Chr.iloc[0],i,find_closest_group_distance(x.Pos.values,i)) for i in range(2,len(x)+1)])\n",
    "df_hits_all_dist = pd.DataFrame(itertools.chain.from_iterable(df_hits_all_dist),columns=[\"Chr\",\"N_hits\",\"Dist\"])\n",
    "\n",
    "dict_chr_lenght = {i+1:v for i,v in enumerate(list_chr_lenght)}\n",
    "dict_chr_n_hits = df_hits_all_dist.groupby('Chr').N_hits.max().to_dict()\n",
    "\n",
    "n_total_hits = df_hits_all.shape[0]\n",
    "genome_length_b = sum(list_chr_lenght)\n",
    "    \n",
    "\n",
    "\n",
    "ax = df_hits_all_dist.boxplot('Dist',by='N_hits')\n",
    "#tmp = df_hits_all_dist.query('Chr==5').copy()\n",
    "#tmp.N_hits = tmp.N_hits -1\n",
    "#tmp.plot(x='N_hits',y='Dist',ax=ax,linestyle='',marker='X',c='r',label='Ch5')\n",
    "plt.ylabel('Dist')\n",
    "ax.set_title('Distance between hits distribution over Chromosomes')\n",
    "plt.suptitle('')"
   ]
  },
  {
   "cell_type": "code",
   "execution_count": null,
   "id": "f723397b-646e-4065-a849-2fdd7ffa0f50",
   "metadata": {},
   "outputs": [],
   "source": []
  },
  {
   "cell_type": "markdown",
   "id": "f6377dba-327d-49f5-9d78-0b58f1d8e426",
   "metadata": {},
   "source": [
    "#### Get Pvalues"
   ]
  },
  {
   "cell_type": "code",
   "execution_count": 52,
   "id": "ec07fd11-48f2-4e95-a34c-ca7e551c55b4",
   "metadata": {},
   "outputs": [],
   "source": [
    "tot_hits=df_hits_all.shape[0]\n",
    "\n",
    "def get_simulation_genome_fast(hits,k,region_lenght):\n",
    "    # generate random \n",
    "    for start,end in zip(*[list_chr_start,list_chr_end]):\n",
    "        # check in each chromosome how many times you have k in a region of lenght within_region \n",
    "        hits_in_chr = hits[(hits>=start) & (hits<end)]\n",
    "        if len(hits_in_chr)<k:\n",
    "            continue\n",
    "        min_distance = find_closest_group_distance(hits_in_chr,k)\n",
    "        if min_distance <=region_lenght:\n",
    "            return True\n",
    "    return False\n",
    "\n",
    "\n",
    "def get_simulation_in_chr_fast(hits,k,region_lenght):\n",
    "    ''' Hits has all the random sample'''\n",
    "    min_distance = find_closest_group_distance(hits,k)\n",
    "    return np.mean(min_distance <=region_lenght)\n",
    "    \n",
    "    \n",
    "def n_regions_hits(hits,k,region_lenght):\n",
    "    sum_distances = 0\n",
    "    for start,end in zip(*[list_chr_start,list_chr_end]):\n",
    "        # check in each chromosome how many times you have n_hits_region in a region of lenght within_region \n",
    "        hits_in_chr = hits[(hits>=start) & (hits<end)]\n",
    "        if len(hits_in_chr)<k:\n",
    "            continue\n",
    "        distances = np.array([hits_in_chr[i+k-1] - hits_in_chr[i] for i in range(len(hits_in_chr) - k+1)])\n",
    "        sum_distances +=sum(distances<=region_lenght)\n",
    "    return sum_distances \n",
    "    \n",
    "copd_hits = df_hits_all.Pos + [dict_chr_lenght_cumsum[str(x-1)] for x in df_hits_all.Chr]\n",
    "copd_hits = np.sort(copd_hits)\n",
    "df_hits_all_dist['copd_n_regions'] = df_hits_all_dist.apply(lambda x: n_regions_hits(copd_hits,int(x.N_hits),x.Dist),axis=1)\n",
    "\n",
    "# generate 1000 random patients\n",
    "random_hits = np.random.randint(0,genome_lenght,size=[tot_hits,10000])\n",
    "random_hits.sort(axis=0)\n",
    "def get_sim_n_region(k,region_lenght,n_copd_hits):\n",
    "    simulations_chr = get_simulation_in_chr_fast(random_hits,k,region_lenght)\n",
    "    simulations_genome = np.apply_along_axis(lambda x: get_simulation_genome_fast(x,k,region_lenght),axis=0,arr=random_hits)    \n",
    "    random_n_regions = np.apply_along_axis(lambda x: n_regions_hits(x,k,region_lenght),axis=0,arr=random_hits)    \n",
    "    return [np.mean(simulations_chr),np.mean(simulations_genome),np.mean(random_n_regions>=n_copd_hits)] \n",
    "\n"
   ]
  },
  {
   "cell_type": "code",
   "execution_count": 53,
   "id": "1619a9f1-3cdf-4076-8b74-fd574a35e9e8",
   "metadata": {},
   "outputs": [
    {
     "name": "stderr",
     "output_type": "stream",
     "text": [
      "100%|█████████████████████████████████████████████████████████████████████████████████████████████████████████████████████████████████████████████████████████████████████████████████████████████████████████████████████████████████████████████████████████████████████████████████████████| 62/62 [05:42<00:00,  5.52s/it]\n"
     ]
    }
   ],
   "source": [
    "df_hits_all_dist[['pvalue_in_chr','pvalue_genome','pvalue_genome_multiple_region',]] = list(df_hits_all_dist.progress_apply(lambda x: get_sim_n_region(int(x.N_hits),x.Dist,x.copd_n_regions),axis=1))"
   ]
  },
  {
   "cell_type": "code",
   "execution_count": 54,
   "id": "95710d77-33ae-4860-b6bd-284581612876",
   "metadata": {},
   "outputs": [],
   "source": [
    "df_hits_all_dist.sort_values('pvalue_genome_multiple_region').to_csv('Results.csv',index=False)#head(30)"
   ]
  },
  {
   "cell_type": "code",
   "execution_count": 77,
   "id": "0db3cfa7-2146-4d6d-b6fc-edb7129c63d8",
   "metadata": {},
   "outputs": [
    {
     "data": {
      "text/html": [
       "<div>\n",
       "<style scoped>\n",
       "    .dataframe tbody tr th:only-of-type {\n",
       "        vertical-align: middle;\n",
       "    }\n",
       "\n",
       "    .dataframe tbody tr th {\n",
       "        vertical-align: top;\n",
       "    }\n",
       "\n",
       "    .dataframe thead th {\n",
       "        text-align: right;\n",
       "    }\n",
       "</style>\n",
       "<table border=\"1\" class=\"dataframe\">\n",
       "  <thead>\n",
       "    <tr style=\"text-align: right;\">\n",
       "      <th></th>\n",
       "      <th>Chr</th>\n",
       "      <th>N_hits</th>\n",
       "      <th>Dist</th>\n",
       "      <th>copd_n_regions</th>\n",
       "      <th>pvalue_in_chr</th>\n",
       "      <th>pvalue_genome</th>\n",
       "      <th>pvalue_genome_multiple_region</th>\n",
       "    </tr>\n",
       "  </thead>\n",
       "  <tbody>\n",
       "    <tr>\n",
       "      <th>23</th>\n",
       "      <td>4</td>\n",
       "      <td>4</td>\n",
       "      <td>31145690</td>\n",
       "      <td>6</td>\n",
       "      <td>0.9702</td>\n",
       "      <td>0.9427</td>\n",
       "      <td>0.1668</td>\n",
       "    </tr>\n",
       "    <tr>\n",
       "      <th>22</th>\n",
       "      <td>4</td>\n",
       "      <td>3</td>\n",
       "      <td>16935235</td>\n",
       "      <td>8</td>\n",
       "      <td>0.9970</td>\n",
       "      <td>0.9953</td>\n",
       "      <td>0.2108</td>\n",
       "    </tr>\n",
       "    <tr>\n",
       "      <th>24</th>\n",
       "      <td>4</td>\n",
       "      <td>5</td>\n",
       "      <td>69815735</td>\n",
       "      <td>6</td>\n",
       "      <td>0.9992</td>\n",
       "      <td>0.9874</td>\n",
       "      <td>0.4940</td>\n",
       "    </tr>\n",
       "    <tr>\n",
       "      <th>21</th>\n",
       "      <td>4</td>\n",
       "      <td>2</td>\n",
       "      <td>682020</td>\n",
       "      <td>1</td>\n",
       "      <td>0.7767</td>\n",
       "      <td>0.7759</td>\n",
       "      <td>0.7759</td>\n",
       "    </tr>\n",
       "  </tbody>\n",
       "</table>\n",
       "</div>"
      ],
      "text/plain": [
       "    Chr  N_hits      Dist  copd_n_regions  pvalue_in_chr  pvalue_genome  \\\n",
       "23    4       4  31145690               6         0.9702         0.9427   \n",
       "22    4       3  16935235               8         0.9970         0.9953   \n",
       "24    4       5  69815735               6         0.9992         0.9874   \n",
       "21    4       2    682020               1         0.7767         0.7759   \n",
       "\n",
       "    pvalue_genome_multiple_region  \n",
       "23                         0.1668  \n",
       "22                         0.2108  \n",
       "24                         0.4940  \n",
       "21                         0.7759  "
      ]
     },
     "execution_count": 77,
     "metadata": {},
     "output_type": "execute_result"
    }
   ],
   "source": [
    "df_hits_all_dist.sort_values('pvalue_genome_multiple_region').query('Chr==4')"
   ]
  },
  {
   "cell_type": "code",
   "execution_count": 78,
   "id": "a18544a8-32c5-4c2a-9df0-53a0e0d093a4",
   "metadata": {},
   "outputs": [
    {
     "data": {
      "text/plain": [
       "0.9849"
      ]
     },
     "execution_count": 78,
     "metadata": {},
     "output_type": "execute_result"
    }
   ],
   "source": [
    "np.mean([get_simulation_genome(n_hits_region=5,n_hits=83,region_lenght=69815735,genome_lenght=genome_lenght) for x in range(10000)])"
   ]
  },
  {
   "cell_type": "code",
   "execution_count": 80,
   "id": "06e38b5e-8690-408d-8db3-02fbbd0890f7",
   "metadata": {},
   "outputs": [
    {
     "data": {
      "text/html": [
       "<div>\n",
       "<style scoped>\n",
       "    .dataframe tbody tr th:only-of-type {\n",
       "        vertical-align: middle;\n",
       "    }\n",
       "\n",
       "    .dataframe tbody tr th {\n",
       "        vertical-align: top;\n",
       "    }\n",
       "\n",
       "    .dataframe thead th {\n",
       "        text-align: right;\n",
       "    }\n",
       "</style>\n",
       "<table border=\"1\" class=\"dataframe\">\n",
       "  <thead>\n",
       "    <tr style=\"text-align: right;\">\n",
       "      <th></th>\n",
       "      <th>Chr</th>\n",
       "      <th>Pos</th>\n",
       "    </tr>\n",
       "  </thead>\n",
       "  <tbody>\n",
       "    <tr>\n",
       "      <th>24</th>\n",
       "      <td>4</td>\n",
       "      <td>75673363</td>\n",
       "    </tr>\n",
       "    <tr>\n",
       "      <th>25</th>\n",
       "      <td>4</td>\n",
       "      <td>89883818</td>\n",
       "    </tr>\n",
       "    <tr>\n",
       "      <th>0</th>\n",
       "      <td>4</td>\n",
       "      <td>106137033</td>\n",
       "    </tr>\n",
       "    <tr>\n",
       "      <th>26</th>\n",
       "      <td>4</td>\n",
       "      <td>106819053</td>\n",
       "    </tr>\n",
       "    <tr>\n",
       "      <th>27</th>\n",
       "      <td>4</td>\n",
       "      <td>145489098</td>\n",
       "    </tr>\n",
       "  </tbody>\n",
       "</table>\n",
       "</div>"
      ],
      "text/plain": [
       "    Chr        Pos\n",
       "24    4   75673363\n",
       "25    4   89883818\n",
       "0     4  106137033\n",
       "26    4  106819053\n",
       "27    4  145489098"
      ]
     },
     "execution_count": 80,
     "metadata": {},
     "output_type": "execute_result"
    }
   ],
   "source": [
    "df_hits_all.query('Chr==4')"
   ]
  },
  {
   "cell_type": "code",
   "execution_count": null,
   "id": "a44d90f7-11b6-4062-a8d9-654758950b3c",
   "metadata": {},
   "outputs": [],
   "source": []
  },
  {
   "cell_type": "code",
   "execution_count": 2,
   "id": "e8051028-e0d6-40cb-a7c5-7641ec8b8198",
   "metadata": {},
   "outputs": [
    {
     "data": {
      "text/plain": [
       "1"
      ]
     },
     "execution_count": 2,
     "metadata": {},
     "output_type": "execute_result"
    }
   ],
   "source": [
    "1"
   ]
  },
  {
   "cell_type": "code",
   "execution_count": null,
   "id": "0a839db8-198e-4fe3-8f9e-9f9a3f59b381",
   "metadata": {},
   "outputs": [],
   "source": []
  },
  {
   "cell_type": "code",
   "execution_count": null,
   "id": "55f93587-e5cb-4f20-8c2a-728a35ea926b",
   "metadata": {},
   "outputs": [],
   "source": []
  },
  {
   "cell_type": "code",
   "execution_count": 16,
   "id": "a3c063a3-12e4-4b4e-b51d-e6ef66abc096",
   "metadata": {},
   "outputs": [],
   "source": [
    "import pandas as pd\n",
    "df_hits_all_dist= pd.read_csv('Results.csv')"
   ]
  },
  {
   "cell_type": "code",
   "execution_count": 17,
   "id": "7cbb5b6b-84e3-48e4-a7ac-b5594bbacfe7",
   "metadata": {
    "tags": []
   },
   "outputs": [
    {
     "data": {
      "text/html": [
       "<div>\n",
       "<style scoped>\n",
       "    .dataframe tbody tr th:only-of-type {\n",
       "        vertical-align: middle;\n",
       "    }\n",
       "\n",
       "    .dataframe tbody tr th {\n",
       "        vertical-align: top;\n",
       "    }\n",
       "\n",
       "    .dataframe thead th {\n",
       "        text-align: right;\n",
       "    }\n",
       "</style>\n",
       "<table border=\"1\" class=\"dataframe\">\n",
       "  <thead>\n",
       "    <tr style=\"text-align: right;\">\n",
       "      <th></th>\n",
       "      <th>Chr</th>\n",
       "      <th>N_hits</th>\n",
       "      <th>Dist</th>\n",
       "      <th>copd_n_regions</th>\n",
       "      <th>pvalue_in_chr</th>\n",
       "      <th>pvalue_genome</th>\n",
       "      <th>pvalue_genome_multiple_region</th>\n",
       "    </tr>\n",
       "  </thead>\n",
       "  <tbody>\n",
       "    <tr>\n",
       "      <th>0</th>\n",
       "      <td>9</td>\n",
       "      <td>3</td>\n",
       "      <td>34275487</td>\n",
       "      <td>26</td>\n",
       "      <td>1.0000</td>\n",
       "      <td>1.0000</td>\n",
       "      <td>0.0057</td>\n",
       "    </tr>\n",
       "    <tr>\n",
       "      <th>1</th>\n",
       "      <td>15</td>\n",
       "      <td>4</td>\n",
       "      <td>34408197</td>\n",
       "      <td>10</td>\n",
       "      <td>0.9875</td>\n",
       "      <td>0.9708</td>\n",
       "      <td>0.0258</td>\n",
       "    </tr>\n",
       "    <tr>\n",
       "      <th>2</th>\n",
       "      <td>2</td>\n",
       "      <td>3</td>\n",
       "      <td>21189550</td>\n",
       "      <td>14</td>\n",
       "      <td>0.9998</td>\n",
       "      <td>0.9995</td>\n",
       "      <td>0.0367</td>\n",
       "    </tr>\n",
       "    <tr>\n",
       "      <th>3</th>\n",
       "      <td>2</td>\n",
       "      <td>7</td>\n",
       "      <td>230582347</td>\n",
       "      <td>11</td>\n",
       "      <td>1.0000</td>\n",
       "      <td>0.9857</td>\n",
       "      <td>0.0519</td>\n",
       "    </tr>\n",
       "    <tr>\n",
       "      <th>4</th>\n",
       "      <td>1</td>\n",
       "      <td>3</td>\n",
       "      <td>20853118</td>\n",
       "      <td>13</td>\n",
       "      <td>0.9997</td>\n",
       "      <td>0.9994</td>\n",
       "      <td>0.0568</td>\n",
       "    </tr>\n",
       "    <tr>\n",
       "      <th>...</th>\n",
       "      <td>...</td>\n",
       "      <td>...</td>\n",
       "      <td>...</td>\n",
       "      <td>...</td>\n",
       "      <td>...</td>\n",
       "      <td>...</td>\n",
       "      <td>...</td>\n",
       "    </tr>\n",
       "    <tr>\n",
       "      <th>57</th>\n",
       "      <td>17</td>\n",
       "      <td>3</td>\n",
       "      <td>7088604</td>\n",
       "      <td>1</td>\n",
       "      <td>0.6957</td>\n",
       "      <td>0.6818</td>\n",
       "      <td>0.6818</td>\n",
       "    </tr>\n",
       "    <tr>\n",
       "      <th>58</th>\n",
       "      <td>6</td>\n",
       "      <td>6</td>\n",
       "      <td>97417012</td>\n",
       "      <td>3</td>\n",
       "      <td>0.9987</td>\n",
       "      <td>0.9462</td>\n",
       "      <td>0.7217</td>\n",
       "    </tr>\n",
       "    <tr>\n",
       "      <th>59</th>\n",
       "      <td>1</td>\n",
       "      <td>2</td>\n",
       "      <td>1235739</td>\n",
       "      <td>2</td>\n",
       "      <td>0.9339</td>\n",
       "      <td>0.9332</td>\n",
       "      <td>0.7508</td>\n",
       "    </tr>\n",
       "    <tr>\n",
       "      <th>60</th>\n",
       "      <td>4</td>\n",
       "      <td>2</td>\n",
       "      <td>682020</td>\n",
       "      <td>1</td>\n",
       "      <td>0.7767</td>\n",
       "      <td>0.7759</td>\n",
       "      <td>0.7759</td>\n",
       "    </tr>\n",
       "    <tr>\n",
       "      <th>61</th>\n",
       "      <td>5</td>\n",
       "      <td>6</td>\n",
       "      <td>75864886</td>\n",
       "      <td>1</td>\n",
       "      <td>0.9282</td>\n",
       "      <td>0.7809</td>\n",
       "      <td>0.7809</td>\n",
       "    </tr>\n",
       "  </tbody>\n",
       "</table>\n",
       "<p>62 rows × 7 columns</p>\n",
       "</div>"
      ],
      "text/plain": [
       "    Chr  N_hits       Dist  copd_n_regions  pvalue_in_chr  pvalue_genome  \\\n",
       "0     9       3   34275487              26         1.0000         1.0000   \n",
       "1    15       4   34408197              10         0.9875         0.9708   \n",
       "2     2       3   21189550              14         0.9998         0.9995   \n",
       "3     2       7  230582347              11         1.0000         0.9857   \n",
       "4     1       3   20853118              13         0.9997         0.9994   \n",
       "..  ...     ...        ...             ...            ...            ...   \n",
       "57   17       3    7088604               1         0.6957         0.6818   \n",
       "58    6       6   97417012               3         0.9987         0.9462   \n",
       "59    1       2    1235739               2         0.9339         0.9332   \n",
       "60    4       2     682020               1         0.7767         0.7759   \n",
       "61    5       6   75864886               1         0.9282         0.7809   \n",
       "\n",
       "    pvalue_genome_multiple_region  \n",
       "0                          0.0057  \n",
       "1                          0.0258  \n",
       "2                          0.0367  \n",
       "3                          0.0519  \n",
       "4                          0.0568  \n",
       "..                            ...  \n",
       "57                         0.6818  \n",
       "58                         0.7217  \n",
       "59                         0.7508  \n",
       "60                         0.7759  \n",
       "61                         0.7809  \n",
       "\n",
       "[62 rows x 7 columns]"
      ]
     },
     "execution_count": 17,
     "metadata": {},
     "output_type": "execute_result"
    }
   ],
   "source": [
    "df_hits_all_dist.sort_values('pvalue_genome_multiple_region')"
   ]
  },
  {
   "cell_type": "code",
   "execution_count": null,
   "id": "f4b30dfc-8a3f-4a93-a0e4-860fd59c109b",
   "metadata": {},
   "outputs": [],
   "source": []
  },
  {
   "cell_type": "code",
   "execution_count": 18,
   "id": "f9d9097a-175d-47cc-8a11-0cdfd4a18d6d",
   "metadata": {},
   "outputs": [
    {
     "name": "stdout",
     "output_type": "stream",
     "text": [
      "Min Distance Found 3.398325\n"
     ]
    },
    {
     "data": {
      "text/plain": [
       "True"
      ]
     },
     "execution_count": 18,
     "metadata": {},
     "output_type": "execute_result"
    },
    {
     "data": {
      "image/png": "[encoded data removed]",
      "text/plain": [
       "<Figure size 1080x216 with 1 Axes>"
      ]
     },
     "metadata": {
      "needs_background": "light"
     },
     "output_type": "display_data"
    }
   ],
   "source": [
    "get_simulation_genome(n_hits_region=3,n_hits=83,region_lenght=34275487,genome_lenght=genome_lenght,plot=True)"
   ]
  },
  {
   "cell_type": "code",
   "execution_count": null,
   "id": "363e456c-e589-48a7-a73e-757c10addf0a",
   "metadata": {},
   "outputs": [],
   "source": [
    "plot_simulation(df_hits_all.Pos + [dict_chr_lenght_cumsum[str(x)] for x in df_hits_all.Chr],3,55*10**6)"
   ]
  },
  {
   "cell_type": "code",
   "execution_count": null,
   "id": "aaa63dad-6f48-4687-af09-cb9b12956ab1",
   "metadata": {},
   "outputs": [],
   "source": []
  },
  {
   "cell_type": "code",
   "execution_count": null,
   "id": "1e17857f-5272-48b9-aa78-dcc4788e7597",
   "metadata": {},
   "outputs": [],
   "source": []
  }
 ],
 "metadata": {
  "kernelspec": {
   "display_name": "Python 3",
   "language": "python",
   "name": "python3"
  },
  "language_info": {
   "codemirror_mode": {
    "name": "ipython",
    "version": 3
   },
   "file_extension": ".py",
   "mimetype": "text/x-python",
   "name": "python",
   "nbconvert_exporter": "python",
   "pygments_lexer": "ipython3",
   "version": "3.8.8"
  },
  "toc": {
   "base_numbering": 1,
   "nav_menu": {},
   "number_sections": true,
   "sideBar": true,
   "skip_h1_title": false,
   "title_cell": "Table of Contents",
   "title_sidebar": "Contents",
   "toc_cell": true,
   "toc_position": {},
   "toc_section_display": true,
   "toc_window_display": true
  }
 },
 "nbformat": 4,
 "nbformat_minor": 5
}
