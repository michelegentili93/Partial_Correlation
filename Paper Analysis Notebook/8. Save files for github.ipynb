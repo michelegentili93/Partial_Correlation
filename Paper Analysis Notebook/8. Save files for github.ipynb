{
 "cells": [
  {
   "cell_type": "markdown",
   "id": "261ab50c-7c4f-4a7f-a2ad-9cabfc823b48",
   "metadata": {},
   "source": [
    "### Save Partial Correlation Scores different parameters"
   ]
  },
  {
   "cell_type": "code",
   "execution_count": 53,
   "id": "5fd5d1e8-93b0-4a19-aac0-b3a866ecbbae",
   "metadata": {},
   "outputs": [],
   "source": [
    "import os\n",
    "from shutil import rmtree, copyfile, copytree,ignore_patterns\n",
    "import re\n",
    "import pandas as pd"
   ]
  },
  {
   "cell_type": "code",
   "execution_count": 55,
   "id": "5966ed90-2878-4444-b07a-ec6344fadb3a",
   "metadata": {
    "tags": []
   },
   "outputs": [],
   "source": [
    "path_exp = '/proj/regeps/regep00/studies/LTRC/analyses/remge/PartialCorrelation/Pcorr_output_same_cont_genes/'\n",
    "\n",
    "# new folder that will be compressed and uploaded on github\n",
    "path_newfolder = '/udd/remge/Projects/Partial_Correlation/example/data/'\n",
    "os.makedirs(path_newfolder, exist_ok=True)\n",
    "\n",
    "for gex in os.listdir(path_exp):\n",
    "    \n",
    "    if gex =='Permutation':\n",
    "        continue\n",
    "    path_gex = os.path.join(path_exp,gex)\n",
    "    path_gex_new = os.path.join(path_newfolder,gex)\n",
    "    if not os.path.isdir(path_gex):\n",
    "            continue\n",
    "    for param in os.listdir(path_gex):\n",
    "        path_param = os.path.join(path_gex,param)\n",
    "        path_param_new = os.path.join(path_gex_new,param)\n",
    "        \n",
    "        #create dir in the new folder \n",
    "        os.makedirs(path_param_new,exist_ok=True)\n",
    "        \n",
    "        for file_name in os.listdir(path_param):\n",
    "            if 'obs'==file_name[:3] and '.csv'==file_name[-4:]:\n",
    "                # copy partial correlations files\n",
    "                copyfile(os.path.join(path_param,file_name),os.path.join(path_param_new,file_name))\n",
    "                \n",
    "        for analysis in os.listdir(path_param):\n",
    "            if 'Analysis' in analysis:\n",
    "                if '_0.95' in analysis:\n",
    "                    for file_name in os.listdir(os.path.join(path_param,analysis)):\n",
    "                        if '.csv'==file_name[-4:]:\n",
    "                            # copy the significant list of edges, remove one level of folder.\n",
    "                            copyfile(os.path.join(path_param,analysis,file_name),os.path.join(path_param_new,file_name))\n",
    "                else:\n",
    "                    print('deleting:',path_param,analysis)\n",
    "                    #rmtree(os.path.join(path_param,analysis))"
   ]
  },
  {
   "cell_type": "code",
   "execution_count": null,
   "id": "cef8c16c-805b-4c24-920b-599649464da2",
   "metadata": {},
   "outputs": [],
   "source": []
  },
  {
   "cell_type": "code",
   "execution_count": 50,
   "id": "9d1ae30f-5d35-4f6b-9724-38adceb205cb",
   "metadata": {},
   "outputs": [],
   "source": [
    "import tarfile\n",
    "\n",
    "tar = tarfile.open(path_newfolder[:-1]+\".tar.gz\", \"w:gz\")\n",
    "tar.add(path_newfolder, arcname=\"TarName\")\n",
    "tar.close()"
   ]
  },
  {
   "cell_type": "code",
   "execution_count": 51,
   "id": "cc7fd8bc-3c0f-441e-8f74-cbf278049b39",
   "metadata": {},
   "outputs": [
    {
     "data": {
      "text/plain": [
       "'/proj/regeps/regep00/studies/LTRC/analyses/remge/PartialCorrelation/Paper/'"
      ]
     },
     "execution_count": 51,
     "metadata": {},
     "output_type": "execute_result"
    }
   ],
   "source": [
    "path_newfolder\n"
   ]
  },
  {
   "cell_type": "code",
   "execution_count": null,
   "id": "2269e946-653e-4ccc-a641-efe5cf61085d",
   "metadata": {},
   "outputs": [],
   "source": []
  },
  {
   "cell_type": "code",
   "execution_count": 60,
   "id": "16e7dd88-a2cd-41d5-9bfd-14318b6cd28c",
   "metadata": {},
   "outputs": [
    {
     "data": {
      "text/plain": [
       "'Analysis_0.1_sig_alpha_0.01_diffalpha_0.1_nrep_1000'"
      ]
     },
     "execution_count": 60,
     "metadata": {},
     "output_type": "execute_result"
    }
   ],
   "source": [
    "import re\n",
    "old = 'Analysis_nreg_0_minL_0_ch_4_0.1_sig_alpha_0.01_diffalpha_0.1_nrep_1000'\n",
    "re.sub(r\"(nreg_[^a-z]+_minL_[^a-z]+_ch_[(4)(All)]_)\", \"\", old)"
   ]
  }
 ],
 "metadata": {
  "kernelspec": {
   "display_name": "pypandaENV1",
   "language": "python",
   "name": "pypandaenv1"
  },
  "language_info": {
   "codemirror_mode": {
    "name": "ipython",
    "version": 3
   },
   "file_extension": ".py",
   "mimetype": "text/x-python",
   "name": "python",
   "nbconvert_exporter": "python",
   "pygments_lexer": "ipython3",
   "version": "3.8.8"
  }
 },
 "nbformat": 4,
 "nbformat_minor": 5
}
