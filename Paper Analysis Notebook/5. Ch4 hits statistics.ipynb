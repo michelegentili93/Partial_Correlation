{
 "cells": [
  {
   "cell_type": "code",
   "execution_count": 1,
   "id": "adb99468",
   "metadata": {},
   "outputs": [],
   "source": [
    "import numpy as np\n",
    "from tqdm import tqdm\n",
    "\n",
    "# Simulations if considerin the genome devided into chromosomes\n",
    "# thus the window of consecutive hits has to be within a chromose\n",
    "\n",
    "list_chr_lenght = np.array([240,240,200,190,180,170,150,140,130,130,130,130,110,100,100,90,80,70,60,60,40,40,150,50])\n",
    "genome_lenght = np.sum(list_chr_lenght) #2980 Mb\n",
    "list_chr_end = np.cumsum(list_chr_lenght)\n",
    "list_chr_start = list_chr_end-list_chr_lenght\n",
    "\n",
    "def get_simulation_chr(n_hits_within_region,n_hits,region_lenght):\n",
    "    # generate random \n",
    "    hits = np.random.randint(0,genome_lenght,size=n_hits)\n",
    "    hits = np.sort(hits)\n",
    "    n_regions_with_cons_hits = 0\n",
    "    \n",
    "    for start,end in zip(*[list_chr_start,list_chr_end]):\n",
    "        # check in each chromosome how many times you have n_hits_within_region in a region of lenght within_region \n",
    "        hits_in_chr = hits[(hits>=start) & (hits<end)]\n",
    "        hits_dist = np.diff(hits_in_chr)\n",
    "        bucket_dist = np.array([hits_dist[i:i+n_hits_within_region].sum() for i in range(len(hits_in_chr)-n_hits_within_region)])\n",
    "        n_regions_with_cons_hits += sum(bucket_dist <=region_lenght)\n",
    "    return n_regions_with_cons_hits"
   ]
  },
  {
   "cell_type": "code",
   "execution_count": 2,
   "id": "d1bdd588",
   "metadata": {},
   "outputs": [
    {
     "name": "stderr",
     "output_type": "stream",
     "text": [
      "100%|█████████████████████████████████████████████████████████████████████████████████████████████████████████████████████████████████████████████████████████████| 100000/100000 [01:55<00:00, 865.17it/s]\n"
     ]
    },
    {
     "data": {
      "text/plain": [
       "0.00669"
      ]
     },
     "execution_count": 2,
     "metadata": {},
     "output_type": "execute_result"
    }
   ],
   "source": [
    "simulations = np.array([get_simulation_chr(n_hits_within_region=4,n_hits=22,region_lenght=55) for x in tqdm(range(100000))])\n",
    "np.mean(simulations>0)"
   ]
  },
  {
   "cell_type": "code",
   "execution_count": 6,
   "id": "b3fa1422",
   "metadata": {},
   "outputs": [
    {
     "name": "stderr",
     "output_type": "stream",
     "text": [
      "100%|████████████████████████████████████████████████████████████████████████████████████████████████████████████████████| 100000/100000 [02:17<00:00, 727.56it/s]\n"
     ]
    },
    {
     "data": {
      "text/plain": [
       "0.75735"
      ]
     },
     "execution_count": 6,
     "metadata": {},
     "output_type": "execute_result"
    }
   ],
   "source": [
    "simulations = np.array([get_simulation_chr(n_hits_within_region=5,n_hits=83,region_lenght=70) for x in tqdm(range(100000))])\n",
    "np.mean(simulations>0)"
   ]
  },
  {
   "cell_type": "code",
   "execution_count": 2,
   "id": "9172fbbb-2ca3-4c2b-8b0f-bac1164c3e10",
   "metadata": {},
   "outputs": [
    {
     "name": "stderr",
     "output_type": "stream",
     "text": [
      "100%|██████████████████████████████████████████████████████████████████████████████████████████████████████████████████████████████████████████████████████████████████████████████████████████████████████████████████████████████████| 100000/100000 [02:12<00:00, 754.52it/s]\n"
     ]
    },
    {
     "data": {
      "text/plain": [
       "0.18057"
      ]
     },
     "execution_count": 2,
     "metadata": {},
     "output_type": "execute_result"
    }
   ],
   "source": [
    "simulations = np.array([get_simulation_chr(n_hits_within_region=5,n_hits=83,region_lenght=38.5) for x in tqdm(range(100000))])\n",
    "np.mean(simulations>0)"
   ]
  },
  {
   "cell_type": "markdown",
   "id": "cb0cfd82-ea10-4e62-bd87-e2c9e466113f",
   "metadata": {},
   "source": [
    "### Chromosome 5\n",
    "\n",
    "- Three loci in 9.0 Mb\n",
    "- Four loci in 23.0 Mb\n",
    "- Six loci in 75.9 Mb\n",
    "- Seven loci in 98.8 Mb\n",
    "- Eight loci in 118.7 Mb"
   ]
  },
  {
   "cell_type": "code",
   "execution_count": 5,
   "id": "7b529623-6266-4967-8054-930bfc5ae85a",
   "metadata": {},
   "outputs": [],
   "source": [
    "import numpy as np\n",
    "from tqdm import tqdm\n",
    "list_chr_lenght = np.array([240,240,200,190,180,170,150,140,130,130,130,130,110,100,100,90,80,70,60,60,40,40,150,50])\n",
    "list_hits_ch5 = [(3,9),(4,23),(5,38.5),(6,75.9),(7,98.8),(8,118.7)]\n",
    "tot_hits_ch5 = 8"
   ]
  },
  {
   "cell_type": "code",
   "execution_count": null,
   "id": "1a4b935e-cd17-4356-ad10-1b5a2d8c85a8",
   "metadata": {},
   "outputs": [],
   "source": []
  },
  {
   "cell_type": "code",
   "execution_count": 6,
   "id": "e74827f9-727c-4868-86c8-94b049557a54",
   "metadata": {},
   "outputs": [],
   "source": [
    "def get_simulation_in_chr(n_hits_within_region,n_hits,hit_region_lenght,region_reference):\n",
    "    # generate random \n",
    "    hits_in_chr = np.random.randint(0,region_reference,size=n_hits)\n",
    "    hits_in_chr = np.sort(hits_in_chr)\n",
    "    hits_dist = np.diff(hits_in_chr)\n",
    "    bucket_dist = np.array([hits_dist[i:i+n_hits_within_region].sum() for i in range(len(hits_in_chr)-n_hits_within_region)])\n",
    "    n_regions_with_cons_hits = sum(bucket_dist <=hit_region_lenght)\n",
    "    return n_regions_with_cons_hits"
   ]
  },
  {
   "cell_type": "code",
   "execution_count": 7,
   "id": "26f3ccad-1b22-4922-a38a-db5f7d47cf62",
   "metadata": {},
   "outputs": [
    {
     "name": "stderr",
     "output_type": "stream",
     "text": [
      "100%|███████████████████████████████████████████████████████████████████████████████████████████████████████████████████████████████████████████████████████████████████████████████████████████████████████████████████████████████████| 10000/10000 [00:01<00:00, 5823.36it/s]\n"
     ]
    },
    {
     "name": "stdout",
     "output_type": "stream",
     "text": [
      "0 0.0318\n"
     ]
    },
    {
     "name": "stderr",
     "output_type": "stream",
     "text": [
      "100%|███████████████████████████████████████████████████████████████████████████████████████████████████████████████████████████████████████████████████████████████████████████████████████████████████████████████████████████████████| 10000/10000 [00:01<00:00, 6569.55it/s]\n"
     ]
    },
    {
     "name": "stdout",
     "output_type": "stream",
     "text": [
      "1 0.0431\n"
     ]
    },
    {
     "name": "stderr",
     "output_type": "stream",
     "text": [
      "100%|███████████████████████████████████████████████████████████████████████████████████████████████████████████████████████████████████████████████████████████████████████████████████████████████████████████████████████████████████| 10000/10000 [00:01<00:00, 7729.38it/s]\n"
     ]
    },
    {
     "name": "stdout",
     "output_type": "stream",
     "text": [
      "2 0.0353\n"
     ]
    },
    {
     "name": "stderr",
     "output_type": "stream",
     "text": [
      "100%|███████████████████████████████████████████████████████████████████████████████████████████████████████████████████████████████████████████████████████████████████████████████████████████████████████████████████████████████████| 10000/10000 [00:01<00:00, 8658.79it/s]\n"
     ]
    },
    {
     "name": "stdout",
     "output_type": "stream",
     "text": [
      "3 0.1088\n"
     ]
    },
    {
     "name": "stderr",
     "output_type": "stream",
     "text": [
      "100%|███████████████████████████████████████████████████████████████████████████████████████████████████████████████████████████████████████████████████████████████████████████████████████████████████████████████████████████████████| 10000/10000 [00:01<00:00, 9699.50it/s]\n"
     ]
    },
    {
     "name": "stdout",
     "output_type": "stream",
     "text": [
      "4 0.0638\n"
     ]
    },
    {
     "name": "stderr",
     "output_type": "stream",
     "text": [
      "100%|██████████████████████████████████████████████████████████████████████████████████████████████████████████████████████████████████████████████████████████████████████████████████████████████████████████████████████████████████| 10000/10000 [00:00<00:00, 12422.45it/s]"
     ]
    },
    {
     "name": "stdout",
     "output_type": "stream",
     "text": [
      "5 0.0\n"
     ]
    },
    {
     "name": "stderr",
     "output_type": "stream",
     "text": [
      "\n"
     ]
    }
   ],
   "source": [
    "for i,(hits,region) in enumerate(list_hits_ch5):\n",
    "    simulations = np.array([get_simulation_in_chr(n_hits_within_region=hits,n_hits=tot_hits_ch5,hit_region_lenght=region,region_reference=list_chr_lenght[4]) for x in tqdm(range(10000))])\n",
    "    print(i,np.mean(simulations>0))"
   ]
  },
  {
   "cell_type": "code",
   "execution_count": null,
   "id": "df47a4b5-e213-4880-bcb6-e8565151f259",
   "metadata": {},
   "outputs": [],
   "source": []
  }
 ],
 "metadata": {
  "kernelspec": {
   "display_name": "Python 3",
   "language": "python",
   "name": "python3"
  },
  "language_info": {
   "codemirror_mode": {
    "name": "ipython",
    "version": 3
   },
   "file_extension": ".py",
   "mimetype": "text/x-python",
   "name": "python",
   "nbconvert_exporter": "python",
   "pygments_lexer": "ipython3",
   "version": "3.8.8"
  }
 },
 "nbformat": 4,
 "nbformat_minor": 5
}
