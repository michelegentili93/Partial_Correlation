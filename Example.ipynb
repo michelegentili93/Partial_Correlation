{
 "cells": [
  {
   "cell_type": "code",
   "execution_count": 1,
   "id": "459b0329",
   "metadata": {},
   "outputs": [
    {
     "ename": "ModuleNotFoundError",
     "evalue": "No module named 'pandas'",
     "output_type": "error",
     "traceback": [
      "\u001b[0;31m---------------------------------------------------------------------------\u001b[0m",
      "\u001b[0;31mModuleNotFoundError\u001b[0m                       Traceback (most recent call last)",
      "\u001b[0;32m<ipython-input-1-8c2edf33f676>\u001b[0m in \u001b[0;36m<module>\u001b[0;34m\u001b[0m\n\u001b[0;32m----> 1\u001b[0;31m \u001b[0;32mfrom\u001b[0m \u001b[0mPrior_example\u001b[0m \u001b[0;32mimport\u001b[0m \u001b[0mPPI_prior\u001b[0m\u001b[0;34m\u001b[0m\u001b[0;34m\u001b[0m\u001b[0m\n\u001b[0m\u001b[1;32m      2\u001b[0m \u001b[0;32mfrom\u001b[0m \u001b[0mPartialCorrelation\u001b[0m \u001b[0;32mimport\u001b[0m \u001b[0;34m*\u001b[0m\u001b[0;34m\u001b[0m\u001b[0;34m\u001b[0m\u001b[0m\n\u001b[1;32m      3\u001b[0m \u001b[0;32mimport\u001b[0m \u001b[0mpandas\u001b[0m \u001b[0;32mas\u001b[0m \u001b[0mpd\u001b[0m\u001b[0;34m\u001b[0m\u001b[0;34m\u001b[0m\u001b[0m\n\u001b[1;32m      4\u001b[0m \u001b[0;32mimport\u001b[0m \u001b[0mnetworkx\u001b[0m \u001b[0;32mas\u001b[0m \u001b[0mnx\u001b[0m\u001b[0;34m\u001b[0m\u001b[0;34m\u001b[0m\u001b[0m\n\u001b[1;32m      5\u001b[0m \u001b[0;34m\u001b[0m\u001b[0m\n",
      "\u001b[0;32m~/Desktop/example/Prior_example.py\u001b[0m in \u001b[0;36m<module>\u001b[0;34m\u001b[0m\n\u001b[1;32m      4\u001b[0m \u001b[0;32mfrom\u001b[0m \u001b[0mfunctools\u001b[0m \u001b[0;32mimport\u001b[0m \u001b[0mpartial\u001b[0m\u001b[0;34m\u001b[0m\u001b[0;34m\u001b[0m\u001b[0m\n\u001b[1;32m      5\u001b[0m \u001b[0;32mimport\u001b[0m \u001b[0mnumpy\u001b[0m \u001b[0;32mas\u001b[0m \u001b[0mnp\u001b[0m\u001b[0;34m\u001b[0m\u001b[0;34m\u001b[0m\u001b[0m\n\u001b[0;32m----> 6\u001b[0;31m \u001b[0;32mimport\u001b[0m \u001b[0mpandas\u001b[0m \u001b[0;32mas\u001b[0m \u001b[0mpd\u001b[0m\u001b[0;34m\u001b[0m\u001b[0;34m\u001b[0m\u001b[0m\n\u001b[0m\u001b[1;32m      7\u001b[0m \u001b[0;32mimport\u001b[0m \u001b[0mscipy\u001b[0m\u001b[0;34m\u001b[0m\u001b[0;34m\u001b[0m\u001b[0m\n\u001b[1;32m      8\u001b[0m \u001b[0;32mimport\u001b[0m \u001b[0mnetworkx\u001b[0m \u001b[0;32mas\u001b[0m \u001b[0mnx\u001b[0m\u001b[0;34m\u001b[0m\u001b[0;34m\u001b[0m\u001b[0m\n",
      "\u001b[0;31mModuleNotFoundError\u001b[0m: No module named 'pandas'"
     ]
    }
   ],
   "source": [
    "from Prior_example import PPI_prior\n",
    "from PartialCorrelation import *\n",
    "import pandas as pd\n",
    "import networkx as nx\n",
    "\n",
    "# load data\n",
    "df_exp = pd.read_csv('./data/expression.csv',index_col=0)\n",
    "df_gene_list = pd.read_csv('./data/gene_list.txt',index_col=0,header=None).index\n",
    "df_ppi = pd.read_csv('./data/ppi.csv')\n",
    "nt_ppi = nx.from_pandas_edgelist(df_ppi, 'protein1', 'protein2')\n",
    "\n",
    "#compute the regularization matrix from the PPI network for the generalized Ridge regression\n",
    "df_prior = PPI_prior(nt_ppi,'./data/prior.csv', recompute=False).df_prior\n",
    "\n",
    "# compute partial correlation vs correlation\n",
    "nreg=10\n",
    "minL=1\n",
    "df_pcorr = PartialCorrelation(df_exp = df_exp, df_prior=df_prior,n_controlling_genes=nreg,\n",
    "                                              min_scaled_lambda=minL, parallel=False,verbose=False,\n",
    "                                              list_genes_to_analyze = df_gene_list).df_partial_correlation\n",
    "\n",
    "df_corr = df_exp.T.corr()"
   ]
  },
  {
   "cell_type": "code",
   "execution_count": null,
   "id": "b03bf3ee",
   "metadata": {},
   "outputs": [],
   "source": [
    "#Plot Correlation vs Partial correlation\n",
    "np_corr = df_corr.loc['SETD7',df_pcorr.index.difference(['SETD7'])].values\n",
    "np_pcorr = df_pcorr.loc['SETD7',df_pcorr.index.difference(['SETD7'])].values\n",
    "\n",
    "\n",
    "plt.scatter(np_corr,np_pcorr)\n",
    "plt.plot([plt.xlim()[0],plt.xlim()[1]],[plt.xlim()[0],plt.xlim()[1]])\n",
    "plt.xlabel('Correlation')\n",
    "plt.ylabel('Partial Correlation')\n",
    "plt.title('SETD7 Correlation vs Partial Correlation')"
   ]
  }
 ],
 "metadata": {
  "kernelspec": {
   "display_name": "pyradiomics",
   "language": "python",
   "name": "pyradiomics"
  },
  "language_info": {
   "codemirror_mode": {
    "name": "ipython",
    "version": 3
   },
   "file_extension": ".py",
   "mimetype": "text/x-python",
   "name": "python",
   "nbconvert_exporter": "python",
   "pygments_lexer": "ipython3",
   "version": "3.6.13"
  }
 },
 "nbformat": 4,
 "nbformat_minor": 5
}
