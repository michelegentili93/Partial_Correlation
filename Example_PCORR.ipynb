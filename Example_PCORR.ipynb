{
 "cells": [
  {
   "cell_type": "code",
   "execution_count": 10,
   "id": "459b0329",
   "metadata": {},
   "outputs": [
    {
     "name": "stdout",
     "output_type": "stream",
     "text": [
      "path name prior:  ./data/prior.csv\n",
      "Number of genes in PPI: 2335\n"
     ]
    },
    {
     "name": "stderr",
     "output_type": "stream",
     "text": [
      "100%|████████████████████████████████████████████████████████████████████████████████████████████████████████████████████████████████████████████████████████████████████████████████████████████████████████████████| 2335/2335 [00:05<00:00, 400.15it/s]\n"
     ]
    },
    {
     "name": "stdout",
     "output_type": "stream",
     "text": [
      "Analyzing 50 genes\n"
     ]
    }
   ],
   "source": [
    "from src.Prior import PPI_prior\n",
    "from src.PartialCorrelation import *\n",
    "import pandas as pd\n",
    "import networkx as nx\n",
    "import matplotlib.pyplot as plt\n",
    "\n",
    "# load data\n",
    "df_exp = pd.read_csv('./data/expression.csv',index_col=0)\n",
    "# you can select a sublist of genes to be used to compute the pair wise partial correlation (though controlling for all the genes in the Gene expression)\n",
    "list_gene_list = df_exp.sample(50).index\n",
    "df_ppi = pd.read_csv('./data/ppi.csv')\n",
    "nt_ppi = nx.from_pandas_edgelist(df_ppi, 'protein1', 'protein2')\n",
    "\n",
    "#compute the regularization matrix from the PPI network for the generalized Ridge regression\n",
    "df_prior = PPI_prior(nt_ppi,'./data/prior.csv', recompute=True).df_prior\n",
    "\n",
    "# compute partial correlation vs correlation\n",
    "nreg=10\n",
    "minL=1\n",
    "df_pcorr = PartialCorrelation(df_exp = df_exp, df_prior=df_prior,n_controlling_genes=nreg,\n",
    "                                              min_scaled_lambda=minL, parallel=False,verbose=False,\n",
    "                                              list_genes_to_analyze = list_gene_list).df_partial_correlation\n",
    "\n",
    "df_corr = df_exp.T.corr()"
   ]
  },
  {
   "cell_type": "code",
   "execution_count": 11,
   "id": "b03bf3ee",
   "metadata": {},
   "outputs": [
    {
     "data": {
      "text/plain": [
       "Text(0.5, 1.0, 'XBP1 Correlation vs Partial Correlation')"
      ]
     },
     "execution_count": 11,
     "metadata": {},
     "output_type": "execute_result"
    },
    {
     "data": {
      "image/png": "[encoded data removed]",
      "text/plain": [
       "<Figure size 432x288 with 1 Axes>"
      ]
     },
     "metadata": {
      "needs_background": "light"
     },
     "output_type": "display_data"
    }
   ],
   "source": [
    "#Plot Correlation vs Partial correlation\n",
    "tmp_gene = list_gene_list[0]\n",
    "np_corr = df_corr.loc[tmp_gene,df_pcorr.index.difference(['SETD7'])].values\n",
    "np_pcorr = df_pcorr.loc[tmp_gene,df_pcorr.index.difference(['SETD7'])].values\n",
    "\n",
    "\n",
    "plt.scatter(np_corr,np_pcorr,label='gene pair')\n",
    "plt.plot([plt.xlim()[0],plt.xlim()[1]],[plt.xlim()[0],plt.xlim()[1]],c='gray',alpha=.6,label='x=y')\n",
    "plt.axvline(0,linestyle='--',c='gray',)\n",
    "plt.axhline(0,linestyle='--',c='gray')\n",
    "plt.xlabel('Correlation')\n",
    "plt.ylabel('Partial Correlation')\n",
    "plt.legend()\n",
    "plt.title('%s Correlation vs Partial Correlation'%tmp_gene)"
   ]
  },
  {
   "cell_type": "code",
   "execution_count": null,
   "id": "2cfda5f7-1b14-4233-b052-818bdec5fc37",
   "metadata": {},
   "outputs": [],
   "source": []
  }
 ],
 "metadata": {
  "kernelspec": {
   "display_name": "pypandaENV1",
   "language": "python",
   "name": "pypandaenv1"
  },
  "language_info": {
   "codemirror_mode": {
    "name": "ipython",
    "version": 3
   },
   "file_extension": ".py",
   "mimetype": "text/x-python",
   "name": "python",
   "nbconvert_exporter": "python",
   "pygments_lexer": "ipython3",
   "version": "3.8.8"
  }
 },
 "nbformat": 4,
 "nbformat_minor": 5
}
